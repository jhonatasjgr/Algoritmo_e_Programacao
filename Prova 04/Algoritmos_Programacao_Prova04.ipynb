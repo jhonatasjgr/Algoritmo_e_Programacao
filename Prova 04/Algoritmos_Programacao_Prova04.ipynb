{
  "nbformat": 4,
  "nbformat_minor": 0,
  "metadata": {
    "colab": {
      "provenance": [],
      "authorship_tag": "ABX9TyP1d/y3CEDeOvT/O60ry6lV",
      "include_colab_link": true
    },
    "kernelspec": {
      "name": "python3",
      "display_name": "Python 3"
    },
    "language_info": {
      "name": "python"
    }
  },
  "cells": [
    {
      "cell_type": "markdown",
      "metadata": {
        "id": "view-in-github",
        "colab_type": "text"
      },
      "source": [
        "<a href=\"https://colab.research.google.com/github/fgsantosti/algoritmosprogramacaoc/blob/main/Algoritmos_Programacao_Prova04.ipynb\" target=\"_parent\"><img src=\"https://colab.research.google.com/assets/colab-badge.svg\" alt=\"Open In Colab\"/></a>"
      ]
    },
    {
      "cell_type": "markdown",
      "source": [
        "## Prova Prática de Algoritmos e Programação 2024-1\n",
        "\n",
        "\n",
        "### Questões 1\n",
        "\n",
        "### Questão sobre Arrays\n",
        "Você foi contratado para desenvolver uma função que analisa um conjunto de dados representado por um array de números inteiros. Sua tarefa é implementar uma função em C que receba um array de números inteiros e o tamanho desse array, e retorne a soma dos elementos do array. Em seguida, escreva um programa que leia um número `n` indicando o tamanho do array, leia `n` números inteiros do usuário, e utilize a função para calcular e imprimir a soma dos números.\n",
        "\n",
        "#### Protótipo da função:\n",
        "```c\n",
        "int soma_array(int array[], int tamanho);\n",
        "```\n",
        "\n",
        "#### Exemplo de Entrada:\n",
        "```\n",
        "5\n",
        "1 2 3 4 5\n",
        "```\n",
        "\n",
        "#### Exemplo de Saída:\n",
        "```\n",
        "A soma dos elementos do array é: 15\n",
        "```\n",
        "\n",
        "#### Dicas:\n",
        "- Lembre-se de iterar pelo array para somar os elementos.\n",
        "- Use um laço de repetição `for` para ler os elementos do array e outro para calcular a soma.\n",
        "\n",
        "### Questão 2\n",
        "Implemente uma função em C que receba duas matrizes quadradas `n x n` e retorne uma terceira matriz que seja o resultado da multiplicação das duas matrizes. Em seguida, escreva um programa que leia um número `n` indicando o tamanho das matrizes, leia duas matrizes `n x n` do usuário, utilize a função para calcular a matriz resultante da multiplicação e imprima essa matriz.\n",
        "\n",
        "#### Protótipo da função:\n",
        "```c\n",
        "void multiplica_matrizes(int n, int matriz1[n][n], int matriz2[n][n], int resultado[n][n]);\n",
        "```\n",
        "\n",
        "#### Exemplo de Entrada:\n",
        "```\n",
        "2\n",
        "1 2\n",
        "3 4\n",
        "5 6\n",
        "7 8\n",
        "```\n",
        "\n",
        "#### Exemplo de Saída:\n",
        "```\n",
        "Matriz Resultante:\n",
        "19 22\n",
        "43 50\n",
        "```\n",
        "\n",
        "###  [Questão 3 - Credit Cards](https://cs50.harvard.edu/x/2023/psets/1/credit/)\n",
        "\n",
        "\n",
        "\n",
        "### [Questão 4 - Dinheiro](https://cs50xemportugues.github.io/2024/exercicios/1/cash.html)\n",
        "\n",
        "\n",
        "### [Questão 5 - Scrabble](https://cs50xemportugues.github.io/2024/exercicios/2/scrabble.html)\n",
        "\n",
        "\n",
        "### [Questão 6 - Substituição](https://cs50xemportugues.github.io/2024/exercicios/2/substitution.html)\n",
        "\n",
        "\n",
        "- [Questão 6 - Substituição](https://cs50.harvard.edu/x/2023/psets/2/substitution/)\n",
        "\n",
        "\n",
        "### [Questão 7 - César](https://cs50xemportugues.github.io/2024/exercicios/2/caesar.html)\n",
        "\n",
        "- [Questão 7 - César](hhttps://cs50.harvard.edu/x/2023/psets/2/caesar/)\n",
        "\n",
        "\n",
        "### [Questão 8 - Construindo Casas](https://judge.beecrowd.com/pt/problems/view/1541)  \n",
        "\n",
        "\n",
        "### [Questão 9 - Bazinga!](https://judge.beecrowd.com/pt/problems/view/1828)"
      ],
      "metadata": {
        "id": "LHXMiLxDGl_Y"
      }
    },
    {
      "cell_type": "markdown",
      "source": [
        "## Envio dos Códigos\n",
        "- **GitHub:**\n",
        "  - Código-fonte organizado com instruções de uso.\n",
        "  - README detalhado com visão geral do projeto, funcionalidades, tecnologias utilizadas, e links para recursos adicionais.\n",
        "  - Enviar o link na plataforma Google Sala de aula.\n",
        "\n",
        "- [Aula sobre GIT e GitHub](https://www.youtube.com/watch?v=oMUraI9lc44)\n",
        "- [Instalação do Git](https://git-scm.com/downloads)\n",
        "- [Crie uma Conta no Github](https://github.com/signup)"
      ],
      "metadata": {
        "id": "8Q5FxsSJHSmw"
      }
    }
  ]
}